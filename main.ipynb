{
 "cells": [
  {
   "cell_type": "code",
   "execution_count": 20,
   "id": "19073b2b",
   "metadata": {},
   "outputs": [],
   "source": [
    "import pandas as pd\n",
    "import locale\n",
    "from bs4 import BeautifulSoup\n",
    "from selenium import webdriver\n",
    "from selenium.webdriver.firefox.options import Options\n",
    "from locale import atof\n",
    "In [11]: locale.setlocale(locale.LC_NUMERIC, '')\n",
    "url = 'https://fundamentus.com.br/fii_resultado.php'\n"
   ]
  },
  {
   "cell_type": "code",
   "execution_count": 21,
   "metadata": {},
   "outputs": [],
   "source": [
    "def returnDYEqualOrBiggerFour(data_frame):\n",
    "    data_frame['Dividend Yield'] = data_frame['Dividend Yield'].str.rstrip('%')\n",
    "    data_frame['Dividend Yield'] = data_frame['Dividend Yield'].str.replace(',', '.')\n",
    "    data_frame['Dividend Yield'] = data_frame['Dividend Yield'].astype(float) / 100\n",
    "    is_more_four_percent = data_frame['Dividend Yield'] >= 0.04\n",
    "    df_full = data_frame[is_more_four_percent]\n",
    "    data_frame['Dividend Yield'] = data_frame['Dividend Yield'].astype(str)\n",
    "    data_frame['Dividend Yield'] = data_frame['Dividend Yield'].str.replace('.', ',')\n",
    "    return data_frame"
   ]
  },
  {
   "cell_type": "code",
   "execution_count": 22,
   "id": "904a8e09",
   "metadata": {},
   "outputs": [],
   "source": [
    "def get_rs():\n",
    "    driver.get(url)\n",
    "\n",
    "    # time.sleep(20)\n",
    "\n",
    "    element = driver.find_element_by_xpath(\n",
    "        \"//div[@class='conteudo clearfix']//table\")\n",
    "\n",
    "    html_content = element.get_attribute(\"outerHTML\")\n",
    "\n",
    "    soup = BeautifulSoup(html_content, \"html.parser\")\n",
    "\n",
    "    table = soup.find(name=\"table\")\n",
    "\n",
    "    df_full = pd.read_html(str(table))[0]\n",
    "    df_full = returnDYEqualOrBiggerFour(df_full)\n",
    "    return df_full\n"
   ]
  },
  {
   "cell_type": "code",
   "execution_count": 23,
   "id": "2387f346",
   "metadata": {},
   "outputs": [
    {
     "output_type": "stream",
     "name": "stderr",
     "text": [
      "/tmp/ipykernel_5610/436793843.py:8: FutureWarning: The default value of regex will change from True to False in a future version. In addition, single character regular expressions will *not* be treated as literal strings when regex=True.\n  data_frame['Dividend Yield'] = data_frame['Dividend Yield'].str.replace('.', ',')\n"
     ]
    },
    {
     "output_type": "execute_result",
     "data": {
      "text/plain": [
       "      Papel             Segmento   Cotação FFO Yield       Dividend Yield  \\\n",
       "0    ABCP11            Shoppings      7500     3,24%               0,0434   \n",
       "1    AEFI11               Outros     17490     6,20%                  0,0   \n",
       "2    AFCR11              Híbrido     10974     7,59%               0,1101   \n",
       "3    AFHI11  Títulos e Val. Mob.      9550     0,03%               0,0208   \n",
       "4    AFOF11  Títulos e Val. Mob.     10298     3,89%               0,0333   \n",
       "..      ...                  ...       ...       ...                  ...   \n",
       "283  XPML11            Shoppings     10500     1,74%               0,0378   \n",
       "284  XPPR11               Outros      6988     7,77%               0,0974   \n",
       "285  XPSF11  Títulos e Val. Mob.      9467     1,71%  0,10220000000000001   \n",
       "286  XTED11   Lajes Corporativas       687    -8,80%                  0,0   \n",
       "287  YCHY11              Híbrido  1.000,00     0,24%                  0,0   \n",
       "\n",
       "     P/VP Valor de Mercado   Liquidez  Qtd de imóveis Preço do m2  \\\n",
       "0      85      915.287.000    146.239               1   12.856,10   \n",
       "1     116      353.582.000          0               5    4.352,32   \n",
       "2     107      130.291.000    250.813               0         000   \n",
       "3      99      170.723.000    681.642               0         000   \n",
       "4      97       37.806.400     93.376               0         000   \n",
       "..    ...              ...        ...             ...         ...   \n",
       "283   100    1.911.810.000  4.004.010              10    5.628,40   \n",
       "284    81      511.254.000  1.806.720               5   12.685,40   \n",
       "285   102      409.941.000  1.559.080               0         000   \n",
       "286    49       12.721.000     13.151               1    1.692,15   \n",
       "287   968    1.597.570.000          0               4    8.334,56   \n",
       "\n",
       "    Aluguel por m2 Cap Rate Vacância Média  \n",
       "0            60335    4,69%         12,00%  \n",
       "1            28552    6,56%          0,00%  \n",
       "2              000    0,00%          0,00%  \n",
       "3              000    0,00%          0,00%  \n",
       "4              000    0,00%          0,00%  \n",
       "..             ...      ...            ...  \n",
       "283          16991    3,02%          5,43%  \n",
       "284          73902    5,83%         46,51%  \n",
       "285            000    0,00%          0,00%  \n",
       "286            000    0,00%          0,00%  \n",
       "287           4320    0,52%          0,00%  \n",
       "\n",
       "[288 rows x 13 columns]"
      ],
      "text/html": "<div>\n<style scoped>\n    .dataframe tbody tr th:only-of-type {\n        vertical-align: middle;\n    }\n\n    .dataframe tbody tr th {\n        vertical-align: top;\n    }\n\n    .dataframe thead th {\n        text-align: right;\n    }\n</style>\n<table border=\"1\" class=\"dataframe\">\n  <thead>\n    <tr style=\"text-align: right;\">\n      <th></th>\n      <th>Papel</th>\n      <th>Segmento</th>\n      <th>Cotação</th>\n      <th>FFO Yield</th>\n      <th>Dividend Yield</th>\n      <th>P/VP</th>\n      <th>Valor de Mercado</th>\n      <th>Liquidez</th>\n      <th>Qtd de imóveis</th>\n      <th>Preço do m2</th>\n      <th>Aluguel por m2</th>\n      <th>Cap Rate</th>\n      <th>Vacância Média</th>\n    </tr>\n  </thead>\n  <tbody>\n    <tr>\n      <th>0</th>\n      <td>ABCP11</td>\n      <td>Shoppings</td>\n      <td>7500</td>\n      <td>3,24%</td>\n      <td>0,0434</td>\n      <td>85</td>\n      <td>915.287.000</td>\n      <td>146.239</td>\n      <td>1</td>\n      <td>12.856,10</td>\n      <td>60335</td>\n      <td>4,69%</td>\n      <td>12,00%</td>\n    </tr>\n    <tr>\n      <th>1</th>\n      <td>AEFI11</td>\n      <td>Outros</td>\n      <td>17490</td>\n      <td>6,20%</td>\n      <td>0,0</td>\n      <td>116</td>\n      <td>353.582.000</td>\n      <td>0</td>\n      <td>5</td>\n      <td>4.352,32</td>\n      <td>28552</td>\n      <td>6,56%</td>\n      <td>0,00%</td>\n    </tr>\n    <tr>\n      <th>2</th>\n      <td>AFCR11</td>\n      <td>Híbrido</td>\n      <td>10974</td>\n      <td>7,59%</td>\n      <td>0,1101</td>\n      <td>107</td>\n      <td>130.291.000</td>\n      <td>250.813</td>\n      <td>0</td>\n      <td>000</td>\n      <td>000</td>\n      <td>0,00%</td>\n      <td>0,00%</td>\n    </tr>\n    <tr>\n      <th>3</th>\n      <td>AFHI11</td>\n      <td>Títulos e Val. Mob.</td>\n      <td>9550</td>\n      <td>0,03%</td>\n      <td>0,0208</td>\n      <td>99</td>\n      <td>170.723.000</td>\n      <td>681.642</td>\n      <td>0</td>\n      <td>000</td>\n      <td>000</td>\n      <td>0,00%</td>\n      <td>0,00%</td>\n    </tr>\n    <tr>\n      <th>4</th>\n      <td>AFOF11</td>\n      <td>Títulos e Val. Mob.</td>\n      <td>10298</td>\n      <td>3,89%</td>\n      <td>0,0333</td>\n      <td>97</td>\n      <td>37.806.400</td>\n      <td>93.376</td>\n      <td>0</td>\n      <td>000</td>\n      <td>000</td>\n      <td>0,00%</td>\n      <td>0,00%</td>\n    </tr>\n    <tr>\n      <th>...</th>\n      <td>...</td>\n      <td>...</td>\n      <td>...</td>\n      <td>...</td>\n      <td>...</td>\n      <td>...</td>\n      <td>...</td>\n      <td>...</td>\n      <td>...</td>\n      <td>...</td>\n      <td>...</td>\n      <td>...</td>\n      <td>...</td>\n    </tr>\n    <tr>\n      <th>283</th>\n      <td>XPML11</td>\n      <td>Shoppings</td>\n      <td>10500</td>\n      <td>1,74%</td>\n      <td>0,0378</td>\n      <td>100</td>\n      <td>1.911.810.000</td>\n      <td>4.004.010</td>\n      <td>10</td>\n      <td>5.628,40</td>\n      <td>16991</td>\n      <td>3,02%</td>\n      <td>5,43%</td>\n    </tr>\n    <tr>\n      <th>284</th>\n      <td>XPPR11</td>\n      <td>Outros</td>\n      <td>6988</td>\n      <td>7,77%</td>\n      <td>0,0974</td>\n      <td>81</td>\n      <td>511.254.000</td>\n      <td>1.806.720</td>\n      <td>5</td>\n      <td>12.685,40</td>\n      <td>73902</td>\n      <td>5,83%</td>\n      <td>46,51%</td>\n    </tr>\n    <tr>\n      <th>285</th>\n      <td>XPSF11</td>\n      <td>Títulos e Val. Mob.</td>\n      <td>9467</td>\n      <td>1,71%</td>\n      <td>0,10220000000000001</td>\n      <td>102</td>\n      <td>409.941.000</td>\n      <td>1.559.080</td>\n      <td>0</td>\n      <td>000</td>\n      <td>000</td>\n      <td>0,00%</td>\n      <td>0,00%</td>\n    </tr>\n    <tr>\n      <th>286</th>\n      <td>XTED11</td>\n      <td>Lajes Corporativas</td>\n      <td>687</td>\n      <td>-8,80%</td>\n      <td>0,0</td>\n      <td>49</td>\n      <td>12.721.000</td>\n      <td>13.151</td>\n      <td>1</td>\n      <td>1.692,15</td>\n      <td>000</td>\n      <td>0,00%</td>\n      <td>0,00%</td>\n    </tr>\n    <tr>\n      <th>287</th>\n      <td>YCHY11</td>\n      <td>Híbrido</td>\n      <td>1.000,00</td>\n      <td>0,24%</td>\n      <td>0,0</td>\n      <td>968</td>\n      <td>1.597.570.000</td>\n      <td>0</td>\n      <td>4</td>\n      <td>8.334,56</td>\n      <td>4320</td>\n      <td>0,52%</td>\n      <td>0,00%</td>\n    </tr>\n  </tbody>\n</table>\n<p>288 rows × 13 columns</p>\n</div>"
     },
     "metadata": {},
     "execution_count": 23
    }
   ],
   "source": [
    "option = Options()\n",
    "option.headless = True\n",
    "driver = webdriver.Firefox(options=option)\n",
    "\n",
    "rs = get_rs()\n",
    "rs.to_csv('brazil-real-estates-sheets.csv')\n",
    "rs"
   ]
  },
  {
   "cell_type": "code",
   "execution_count": null,
   "id": "f3c415e0",
   "metadata": {},
   "outputs": [],
   "source": []
  }
 ],
 "metadata": {
  "kernelspec": {
   "name": "python3",
   "display_name": "Python 3.9.6 64-bit ('venv': venv)"
  },
  "language_info": {
   "codemirror_mode": {
    "name": "ipython",
    "version": 3
   },
   "file_extension": ".py",
   "mimetype": "text/x-python",
   "name": "python",
   "nbconvert_exporter": "python",
   "pygments_lexer": "ipython3",
   "version": "3.9.6"
  },
  "interpreter": {
   "hash": "9f601d89e139a9da227fb793271f722e015129699ae45e987d2538412675db55"
  }
 },
 "nbformat": 4,
 "nbformat_minor": 5
}