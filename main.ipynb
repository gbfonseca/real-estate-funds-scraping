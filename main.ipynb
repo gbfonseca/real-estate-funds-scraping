{
 "cells": [
  {
   "cell_type": "code",
   "execution_count": 13,
   "id": "19073b2b",
   "metadata": {},
   "outputs": [],
   "source": [
    "import pandas as pd\n",
    "import locale\n",
    "from bs4 import BeautifulSoup\n",
    "from selenium import webdriver\n",
    "from selenium.webdriver.firefox.options import Options\n",
    "from locale import atof\n",
    "In [11]: locale.setlocale(locale.LC_NUMERIC, '')\n",
    "url = 'https://fundamentus.com.br/fii_resultado.php'\n"
   ]
  },
  {
   "cell_type": "code",
   "execution_count": 14,
   "id": "904a8e09",
   "metadata": {},
   "outputs": [],
   "source": [
    "def get_rs():\n",
    "    driver.get(url)\n",
    "\n",
    "    # time.sleep(20)\n",
    "\n",
    "    element = driver.find_element_by_xpath(\n",
    "        \"//div[@class='conteudo clearfix']//table\")\n",
    "\n",
    "    html_content = element.get_attribute(\"outerHTML\")\n",
    "\n",
    "    soup = BeautifulSoup(html_content, \"html.parser\")\n",
    "\n",
    "    table = soup.find(name=\"table\")\n",
    "\n",
    "    df_full = pd.read_html(str(table))[0]\n",
    "    df_full['Dividend Yield'] = df_full['Dividend Yield'].str.rstrip('%')\n",
    "    df_full['Dividend Yield'] = df_full['Dividend Yield'].str.replace(',', '.')\n",
    "    df_full['Dividend Yield'] = df_full['Dividend Yield'].astype(float) / 100\n",
    "    is_more_four_percent = df_full['Dividend Yield'] >= 0.04\n",
    "    df_full = df_full[is_more_four_percent]\n",
    "    df_full['Dividend Yield'] = df_full['Dividend Yield'].astype(str)\n",
    "    df_full['Dividend Yield'] = df_full['Dividend Yield'].str.replace('.', ',')\n",
    "    return df_full\n"
   ]
  },
  {
   "cell_type": "code",
   "execution_count": 15,
   "id": "2387f346",
   "metadata": {},
   "outputs": [
    {
     "output_type": "stream",
     "name": "stderr",
     "text": [
      "/tmp/ipykernel_5610/2128848161.py:22: FutureWarning: The default value of regex will change from True to False in a future version. In addition, single character regular expressions will *not* be treated as literal strings when regex=True.\n  df_full['Dividend Yield'] = df_full['Dividend Yield'].str.replace('.', ',')\n"
     ]
    },
    {
     "output_type": "execute_result",
     "data": {
      "text/plain": [
       "      Papel             Segmento Cotação FFO Yield        Dividend Yield  \\\n",
       "0    ABCP11            Shoppings    7500     3,24%                0,0434   \n",
       "2    AFCR11              Híbrido   10974     7,59%                0,1101   \n",
       "6    AIEC11   Lajes Corporativas    8600     3,79%   0,06559999999999999   \n",
       "8    ALZR11              Híbrido   12386     3,62%  0,050199999999999995   \n",
       "10   ARCT11              Híbrido   10411     2,35%                0,1273   \n",
       "..      ...                  ...     ...       ...                   ...   \n",
       "279  XPCM11   Lajes Corporativas    4221    27,92%                0,1978   \n",
       "281  XPIN11               Outros   10051     7,98%   0,07400000000000001   \n",
       "282  XPLG11            Logística   11311     5,24%  0,061900000000000004   \n",
       "284  XPPR11               Outros    6988     7,77%                0,0974   \n",
       "285  XPSF11  Títulos e Val. Mob.    9467     1,71%   0,10220000000000001   \n",
       "\n",
       "     P/VP Valor de Mercado   Liquidez  Qtd de imóveis Preço do m2  \\\n",
       "0      85      915.287.000    146.239               1   12.856,10   \n",
       "2     107      130.291.000    250.813               0         000   \n",
       "6      86      414.949.000    739.960               2   17.913,50   \n",
       "8     114      624.029.000  1.708.690              12    7.564,88   \n",
       "10    101      166.323.000    747.437               4       86771   \n",
       "..    ...              ...        ...             ...         ...   \n",
       "279    59      101.919.000    328.398               1    4.342,43   \n",
       "281    91      662.016.000  1.474.280              92    2.425,26   \n",
       "282   102    3.065.400.000  6.286.530              15    1.933,75   \n",
       "284    81      511.254.000  1.806.720               5   12.685,40   \n",
       "285   102      409.941.000  1.559.080               0         000   \n",
       "\n",
       "    Aluguel por m2 Cap Rate Vacância Média  \n",
       "0            60335    4,69%         12,00%  \n",
       "2              000    0,00%          0,00%  \n",
       "6            48102    2,69%          0,00%  \n",
       "8            24394    3,22%          0,00%  \n",
       "10            4320    4,98%          0,00%  \n",
       "..             ...      ...            ...  \n",
       "279       1.378,96   31,76%        100,00%  \n",
       "281          21330    8,79%          9,89%  \n",
       "282          14742    7,62%          0,00%  \n",
       "284          73902    5,83%         46,51%  \n",
       "285            000    0,00%          0,00%  \n",
       "\n",
       "[195 rows x 13 columns]"
      ],
      "text/html": "<div>\n<style scoped>\n    .dataframe tbody tr th:only-of-type {\n        vertical-align: middle;\n    }\n\n    .dataframe tbody tr th {\n        vertical-align: top;\n    }\n\n    .dataframe thead th {\n        text-align: right;\n    }\n</style>\n<table border=\"1\" class=\"dataframe\">\n  <thead>\n    <tr style=\"text-align: right;\">\n      <th></th>\n      <th>Papel</th>\n      <th>Segmento</th>\n      <th>Cotação</th>\n      <th>FFO Yield</th>\n      <th>Dividend Yield</th>\n      <th>P/VP</th>\n      <th>Valor de Mercado</th>\n      <th>Liquidez</th>\n      <th>Qtd de imóveis</th>\n      <th>Preço do m2</th>\n      <th>Aluguel por m2</th>\n      <th>Cap Rate</th>\n      <th>Vacância Média</th>\n    </tr>\n  </thead>\n  <tbody>\n    <tr>\n      <th>0</th>\n      <td>ABCP11</td>\n      <td>Shoppings</td>\n      <td>7500</td>\n      <td>3,24%</td>\n      <td>0,0434</td>\n      <td>85</td>\n      <td>915.287.000</td>\n      <td>146.239</td>\n      <td>1</td>\n      <td>12.856,10</td>\n      <td>60335</td>\n      <td>4,69%</td>\n      <td>12,00%</td>\n    </tr>\n    <tr>\n      <th>2</th>\n      <td>AFCR11</td>\n      <td>Híbrido</td>\n      <td>10974</td>\n      <td>7,59%</td>\n      <td>0,1101</td>\n      <td>107</td>\n      <td>130.291.000</td>\n      <td>250.813</td>\n      <td>0</td>\n      <td>000</td>\n      <td>000</td>\n      <td>0,00%</td>\n      <td>0,00%</td>\n    </tr>\n    <tr>\n      <th>6</th>\n      <td>AIEC11</td>\n      <td>Lajes Corporativas</td>\n      <td>8600</td>\n      <td>3,79%</td>\n      <td>0,06559999999999999</td>\n      <td>86</td>\n      <td>414.949.000</td>\n      <td>739.960</td>\n      <td>2</td>\n      <td>17.913,50</td>\n      <td>48102</td>\n      <td>2,69%</td>\n      <td>0,00%</td>\n    </tr>\n    <tr>\n      <th>8</th>\n      <td>ALZR11</td>\n      <td>Híbrido</td>\n      <td>12386</td>\n      <td>3,62%</td>\n      <td>0,050199999999999995</td>\n      <td>114</td>\n      <td>624.029.000</td>\n      <td>1.708.690</td>\n      <td>12</td>\n      <td>7.564,88</td>\n      <td>24394</td>\n      <td>3,22%</td>\n      <td>0,00%</td>\n    </tr>\n    <tr>\n      <th>10</th>\n      <td>ARCT11</td>\n      <td>Híbrido</td>\n      <td>10411</td>\n      <td>2,35%</td>\n      <td>0,1273</td>\n      <td>101</td>\n      <td>166.323.000</td>\n      <td>747.437</td>\n      <td>4</td>\n      <td>86771</td>\n      <td>4320</td>\n      <td>4,98%</td>\n      <td>0,00%</td>\n    </tr>\n    <tr>\n      <th>...</th>\n      <td>...</td>\n      <td>...</td>\n      <td>...</td>\n      <td>...</td>\n      <td>...</td>\n      <td>...</td>\n      <td>...</td>\n      <td>...</td>\n      <td>...</td>\n      <td>...</td>\n      <td>...</td>\n      <td>...</td>\n      <td>...</td>\n    </tr>\n    <tr>\n      <th>279</th>\n      <td>XPCM11</td>\n      <td>Lajes Corporativas</td>\n      <td>4221</td>\n      <td>27,92%</td>\n      <td>0,1978</td>\n      <td>59</td>\n      <td>101.919.000</td>\n      <td>328.398</td>\n      <td>1</td>\n      <td>4.342,43</td>\n      <td>1.378,96</td>\n      <td>31,76%</td>\n      <td>100,00%</td>\n    </tr>\n    <tr>\n      <th>281</th>\n      <td>XPIN11</td>\n      <td>Outros</td>\n      <td>10051</td>\n      <td>7,98%</td>\n      <td>0,07400000000000001</td>\n      <td>91</td>\n      <td>662.016.000</td>\n      <td>1.474.280</td>\n      <td>92</td>\n      <td>2.425,26</td>\n      <td>21330</td>\n      <td>8,79%</td>\n      <td>9,89%</td>\n    </tr>\n    <tr>\n      <th>282</th>\n      <td>XPLG11</td>\n      <td>Logística</td>\n      <td>11311</td>\n      <td>5,24%</td>\n      <td>0,061900000000000004</td>\n      <td>102</td>\n      <td>3.065.400.000</td>\n      <td>6.286.530</td>\n      <td>15</td>\n      <td>1.933,75</td>\n      <td>14742</td>\n      <td>7,62%</td>\n      <td>0,00%</td>\n    </tr>\n    <tr>\n      <th>284</th>\n      <td>XPPR11</td>\n      <td>Outros</td>\n      <td>6988</td>\n      <td>7,77%</td>\n      <td>0,0974</td>\n      <td>81</td>\n      <td>511.254.000</td>\n      <td>1.806.720</td>\n      <td>5</td>\n      <td>12.685,40</td>\n      <td>73902</td>\n      <td>5,83%</td>\n      <td>46,51%</td>\n    </tr>\n    <tr>\n      <th>285</th>\n      <td>XPSF11</td>\n      <td>Títulos e Val. Mob.</td>\n      <td>9467</td>\n      <td>1,71%</td>\n      <td>0,10220000000000001</td>\n      <td>102</td>\n      <td>409.941.000</td>\n      <td>1.559.080</td>\n      <td>0</td>\n      <td>000</td>\n      <td>000</td>\n      <td>0,00%</td>\n      <td>0,00%</td>\n    </tr>\n  </tbody>\n</table>\n<p>195 rows × 13 columns</p>\n</div>"
     },
     "metadata": {},
     "execution_count": 15
    }
   ],
   "source": [
    "option = Options()\n",
    "option.headless = True\n",
    "driver = webdriver.Firefox(options=option)\n",
    "\n",
    "rs = get_rs()\n",
    "rs.to_csv('brazil-real-estates-sheets.csv')\n",
    "rs"
   ]
  },
  {
   "cell_type": "code",
   "execution_count": null,
   "id": "f3c415e0",
   "metadata": {},
   "outputs": [],
   "source": []
  }
 ],
 "metadata": {
  "kernelspec": {
   "name": "python3",
   "display_name": "Python 3.9.6 64-bit ('venv': venv)"
  },
  "language_info": {
   "codemirror_mode": {
    "name": "ipython",
    "version": 3
   },
   "file_extension": ".py",
   "mimetype": "text/x-python",
   "name": "python",
   "nbconvert_exporter": "python",
   "pygments_lexer": "ipython3",
   "version": "3.9.6"
  },
  "interpreter": {
   "hash": "9f601d89e139a9da227fb793271f722e015129699ae45e987d2538412675db55"
  }
 },
 "nbformat": 4,
 "nbformat_minor": 5
}